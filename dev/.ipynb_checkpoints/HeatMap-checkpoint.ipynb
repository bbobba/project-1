{
 "cells": [
  {
   "cell_type": "markdown",
   "metadata": {},
   "source": [
    "# <center> Heat Map </center>"
   ]
  },
  {
   "cell_type": "code",
   "execution_count": 1,
   "metadata": {},
   "outputs": [],
   "source": [
    "import matplotlib.pyplot as plt\n",
    "import pandas as pd\n",
    "import gmaps\n",
    "import gmaps.datasets\n",
    "from config import gkey"
   ]
  },
  {
   "cell_type": "code",
   "execution_count": 2,
   "metadata": {},
   "outputs": [
    {
     "data": {
      "text/html": [
       "<div>\n",
       "<style scoped>\n",
       "    .dataframe tbody tr th:only-of-type {\n",
       "        vertical-align: middle;\n",
       "    }\n",
       "\n",
       "    .dataframe tbody tr th {\n",
       "        vertical-align: top;\n",
       "    }\n",
       "\n",
       "    .dataframe thead th {\n",
       "        text-align: right;\n",
       "    }\n",
       "</style>\n",
       "<table border=\"1\" class=\"dataframe\">\n",
       "  <thead>\n",
       "    <tr style=\"text-align: right;\">\n",
       "      <th></th>\n",
       "      <th>Unnamed: 0</th>\n",
       "      <th>Address</th>\n",
       "      <th>Issue Reported</th>\n",
       "      <th>Latitude</th>\n",
       "      <th>Location</th>\n",
       "      <th>Longitude</th>\n",
       "      <th>Date Time Published</th>\n",
       "      <th>Traffic Report ID</th>\n",
       "      <th>Traffic Report Status (TRS)</th>\n",
       "      <th>TRS Date Time</th>\n",
       "      <th>Date</th>\n",
       "      <th>Time</th>\n",
       "    </tr>\n",
       "  </thead>\n",
       "  <tbody>\n",
       "    <tr>\n",
       "      <th>0</th>\n",
       "      <td>0</td>\n",
       "      <td>5400 Brodie Ln</td>\n",
       "      <td>Accident/Collision</td>\n",
       "      <td>30.230326</td>\n",
       "      <td>(30.2303264,-97.8199774)</td>\n",
       "      <td>-97.819977</td>\n",
       "      <td>2017-09-26T11:11:00.000</td>\n",
       "      <td>EC10DB9185C9C58A004FA683DD21AFCD16CAD418</td>\n",
       "      <td>ARCHIVED</td>\n",
       "      <td>2018-05-17T20:00:00.000</td>\n",
       "      <td>2017-09-26</td>\n",
       "      <td>11:11:00</td>\n",
       "    </tr>\n",
       "    <tr>\n",
       "      <th>1</th>\n",
       "      <td>1</td>\n",
       "      <td>8800 Corran Ferry Dr</td>\n",
       "      <td>Accident/Collision</td>\n",
       "      <td>30.201610</td>\n",
       "      <td>(30.2016097,-97.8530411)</td>\n",
       "      <td>-97.853041</td>\n",
       "      <td>2017-09-26T11:19:00.000</td>\n",
       "      <td>B25B748A59D8B6B5B5AE3E9D985289E795C874ED</td>\n",
       "      <td>ARCHIVED</td>\n",
       "      <td>2018-05-17T20:00:00.000</td>\n",
       "      <td>2017-09-26</td>\n",
       "      <td>11:19:00</td>\n",
       "    </tr>\n",
       "    <tr>\n",
       "      <th>2</th>\n",
       "      <td>2</td>\n",
       "      <td>N Lamar Blvd Nb &amp; Morrow St</td>\n",
       "      <td>Accident/Collision</td>\n",
       "      <td>30.343978</td>\n",
       "      <td>(30.3439776,-97.7149716)</td>\n",
       "      <td>-97.714972</td>\n",
       "      <td>2017-09-26T11:55:00.000</td>\n",
       "      <td>B17F4787F2799F2665E5F119FC2F47D569212C4C</td>\n",
       "      <td>ARCHIVED</td>\n",
       "      <td>2018-05-17T20:00:00.000</td>\n",
       "      <td>2017-09-26</td>\n",
       "      <td>11:55:00</td>\n",
       "    </tr>\n",
       "    <tr>\n",
       "      <th>3</th>\n",
       "      <td>3</td>\n",
       "      <td>11000 Fm 2222 Rd</td>\n",
       "      <td>Accident/Collision</td>\n",
       "      <td>30.396632</td>\n",
       "      <td>(30.3966315,-97.8487281)</td>\n",
       "      <td>-97.848728</td>\n",
       "      <td>2017-09-26T12:08:00.000</td>\n",
       "      <td>15D1EE116284B85E5DE3E00564518367FE994DE7</td>\n",
       "      <td>ARCHIVED</td>\n",
       "      <td>2018-05-17T20:00:00.000</td>\n",
       "      <td>2017-09-26</td>\n",
       "      <td>12:08:00</td>\n",
       "    </tr>\n",
       "    <tr>\n",
       "      <th>4</th>\n",
       "      <td>4</td>\n",
       "      <td>Mount Bonnell Rd &amp; Tortuga Trl</td>\n",
       "      <td>Accident/Collision</td>\n",
       "      <td>30.339233</td>\n",
       "      <td>(30.339233,-97.7779837)</td>\n",
       "      <td>-97.777984</td>\n",
       "      <td>2017-09-26T12:20:00.000</td>\n",
       "      <td>89CA91E6C9B28BDCFB629B12758F955D21072594</td>\n",
       "      <td>ARCHIVED</td>\n",
       "      <td>2018-05-17T20:00:00.000</td>\n",
       "      <td>2017-09-26</td>\n",
       "      <td>12:20:00</td>\n",
       "    </tr>\n",
       "  </tbody>\n",
       "</table>\n",
       "</div>"
      ],
      "text/plain": [
       "   Unnamed: 0                         Address      Issue Reported   Latitude  \\\n",
       "0           0                  5400 Brodie Ln  Accident/Collision  30.230326   \n",
       "1           1            8800 Corran Ferry Dr  Accident/Collision  30.201610   \n",
       "2           2     N Lamar Blvd Nb & Morrow St  Accident/Collision  30.343978   \n",
       "3           3                11000 Fm 2222 Rd  Accident/Collision  30.396632   \n",
       "4           4  Mount Bonnell Rd & Tortuga Trl  Accident/Collision  30.339233   \n",
       "\n",
       "                   Location  Longitude      Date Time Published  \\\n",
       "0  (30.2303264,-97.8199774) -97.819977  2017-09-26T11:11:00.000   \n",
       "1  (30.2016097,-97.8530411) -97.853041  2017-09-26T11:19:00.000   \n",
       "2  (30.3439776,-97.7149716) -97.714972  2017-09-26T11:55:00.000   \n",
       "3  (30.3966315,-97.8487281) -97.848728  2017-09-26T12:08:00.000   \n",
       "4   (30.339233,-97.7779837) -97.777984  2017-09-26T12:20:00.000   \n",
       "\n",
       "                          Traffic Report ID Traffic Report Status (TRS)  \\\n",
       "0  EC10DB9185C9C58A004FA683DD21AFCD16CAD418                    ARCHIVED   \n",
       "1  B25B748A59D8B6B5B5AE3E9D985289E795C874ED                    ARCHIVED   \n",
       "2  B17F4787F2799F2665E5F119FC2F47D569212C4C                    ARCHIVED   \n",
       "3  15D1EE116284B85E5DE3E00564518367FE994DE7                    ARCHIVED   \n",
       "4  89CA91E6C9B28BDCFB629B12758F955D21072594                    ARCHIVED   \n",
       "\n",
       "             TRS Date Time        Date      Time  \n",
       "0  2018-05-17T20:00:00.000  2017-09-26  11:11:00  \n",
       "1  2018-05-17T20:00:00.000  2017-09-26  11:19:00  \n",
       "2  2018-05-17T20:00:00.000  2017-09-26  11:55:00  \n",
       "3  2018-05-17T20:00:00.000  2017-09-26  12:08:00  \n",
       "4  2018-05-17T20:00:00.000  2017-09-26  12:20:00  "
      ]
     },
     "execution_count": 2,
     "metadata": {},
     "output_type": "execute_result"
    }
   ],
   "source": [
    "traffic_df = pd.read_csv('Resources/traffic (main).csv')\n",
    "traffic_df.head()"
   ]
  },
  {
   "cell_type": "code",
   "execution_count": 3,
   "metadata": {
    "scrolled": true
   },
   "outputs": [
    {
     "data": {
      "text/html": [
       "<div>\n",
       "<style scoped>\n",
       "    .dataframe tbody tr th:only-of-type {\n",
       "        vertical-align: middle;\n",
       "    }\n",
       "\n",
       "    .dataframe tbody tr th {\n",
       "        vertical-align: top;\n",
       "    }\n",
       "\n",
       "    .dataframe thead th {\n",
       "        text-align: right;\n",
       "    }\n",
       "</style>\n",
       "<table border=\"1\" class=\"dataframe\">\n",
       "  <thead>\n",
       "    <tr style=\"text-align: right;\">\n",
       "      <th></th>\n",
       "      <th>Latitude</th>\n",
       "      <th>Longitude</th>\n",
       "    </tr>\n",
       "  </thead>\n",
       "  <tbody>\n",
       "    <tr>\n",
       "      <th>0</th>\n",
       "      <td>30.230326</td>\n",
       "      <td>-97.819977</td>\n",
       "    </tr>\n",
       "    <tr>\n",
       "      <th>1</th>\n",
       "      <td>30.201610</td>\n",
       "      <td>-97.853041</td>\n",
       "    </tr>\n",
       "    <tr>\n",
       "      <th>2</th>\n",
       "      <td>30.343978</td>\n",
       "      <td>-97.714972</td>\n",
       "    </tr>\n",
       "    <tr>\n",
       "      <th>3</th>\n",
       "      <td>30.396632</td>\n",
       "      <td>-97.848728</td>\n",
       "    </tr>\n",
       "    <tr>\n",
       "      <th>4</th>\n",
       "      <td>30.339233</td>\n",
       "      <td>-97.777984</td>\n",
       "    </tr>\n",
       "  </tbody>\n",
       "</table>\n",
       "</div>"
      ],
      "text/plain": [
       "    Latitude  Longitude\n",
       "0  30.230326 -97.819977\n",
       "1  30.201610 -97.853041\n",
       "2  30.343978 -97.714972\n",
       "3  30.396632 -97.848728\n",
       "4  30.339233 -97.777984"
      ]
     },
     "execution_count": 3,
     "metadata": {},
     "output_type": "execute_result"
    }
   ],
   "source": [
    "# -------------------------------- HEAT MAP DATA AND PLOTTING -------------------------------------\n",
    "# Creating a dataframe of the coordinates of each crash\n",
    "traffic_lats = traffic_df['Latitude']\n",
    "traffic_lngs = traffic_df['Longitude']\n",
    "coords_df = pd.DataFrame({'Latitude': traffic_lats,\n",
    "                           'Longitude': traffic_lngs}, dtype= float)\n",
    "\n",
    "# Some values in the latitude column were missing their decimal point, so we had to add it:\n",
    "\n",
    "coords_df.loc[coords_df['Latitude'] == 29880130.0, 'Latitude'] = 29.8801300\n",
    "coords_df.loc[coords_df['Latitude'] == 29804156.0, 'Latitude'] = 29.8041560\n",
    "coords_df.loc[coords_df['Latitude'] == 29932409.0, 'Latitude'] = 29.9324090\n",
    "\n",
    "# Show dataframe\n",
    "coords_df.head()"
   ]
  },
  {
   "cell_type": "code",
   "execution_count": 4,
   "metadata": {
    "scrolled": false
   },
   "outputs": [
    {
     "data": {
      "application/vnd.jupyter.widget-view+json": {
       "model_id": "bda2866594d047059d60217dbaa9ac9e",
       "version_major": 2,
       "version_minor": 0
      },
      "text/plain": [
       "Figure(layout=FigureLayout(height='420px'))"
      ]
     },
     "metadata": {},
     "output_type": "display_data"
    }
   ],
   "source": [
    "# Creating the base map\n",
    "gmaps.configure(api_key= gkey)\n",
    "fig = gmaps.figure()\n",
    "traffic_coords = (30.2672, -97.7431)\n",
    "fig = gmaps.figure(center=traffic_coords, zoom_level=12, map_type='ROADMAP')\n",
    "\n",
    "# Adding the \"heat\" layer and zooming capabilities \n",
    "heatmap_layer = gmaps.heatmap_layer(coords_df) \n",
    "fig.add_layer(heatmap_layer)\n",
    "heatmap_layer.max_intensity = 30 #prevents ind. pts from disappearing when zooming in\n",
    "heatmap_layer.point_radius = 12 #this needs to be a low value to counteract the intensity\n",
    "\n",
    "#gmaps.figure()\n",
    "fig"
   ]
  },
  {
   "cell_type": "code",
   "execution_count": 5,
   "metadata": {},
   "outputs": [
    {
     "data": {
      "application/vnd.jupyter.widget-view+json": {
       "model_id": "bda2866594d047059d60217dbaa9ac9e",
       "version_major": 2,
       "version_minor": 0
      },
      "text/plain": [
       "Figure(layout=FigureLayout(height='420px'))"
      ]
     },
     "metadata": {},
     "output_type": "display_data"
    }
   ],
   "source": [
    "fig"
   ]
  },
  {
   "cell_type": "code",
   "execution_count": null,
   "metadata": {},
   "outputs": [],
   "source": []
  }
 ],
 "metadata": {
  "kernelspec": {
   "display_name": "Pythonomy",
   "language": "python",
   "name": "pythonomy"
  },
  "language_info": {
   "codemirror_mode": {
    "name": "ipython",
    "version": 3
   },
   "file_extension": ".py",
   "mimetype": "text/x-python",
   "name": "python",
   "nbconvert_exporter": "python",
   "pygments_lexer": "ipython3",
   "version": "3.6.7"
  }
 },
 "nbformat": 4,
 "nbformat_minor": 2
}
