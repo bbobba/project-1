{
 "cells": [
  {
   "cell_type": "code",
   "execution_count": 1,
   "metadata": {},
   "outputs": [
    {
     "ename": "ModuleNotFoundError",
     "evalue": "No module named 'config'",
     "output_type": "error",
     "traceback": [
      "\u001b[1;31m----------------------------------------------------------------------\u001b[0m",
      "\u001b[1;31mModuleNotFoundError\u001b[0m                  Traceback (most recent call last)",
      "\u001b[1;32m<ipython-input-1-f9e425c53c94>\u001b[0m in \u001b[0;36m<module>\u001b[1;34m\u001b[0m\n\u001b[0;32m      9\u001b[0m \u001b[1;32mimport\u001b[0m \u001b[0mgmaps\u001b[0m\u001b[1;33m\u001b[0m\u001b[1;33m\u001b[0m\u001b[0m\n\u001b[0;32m     10\u001b[0m \u001b[1;32mimport\u001b[0m \u001b[0mgmaps\u001b[0m\u001b[1;33m.\u001b[0m\u001b[0mdatasets\u001b[0m\u001b[1;33m\u001b[0m\u001b[1;33m\u001b[0m\u001b[0m\n\u001b[1;32m---> 11\u001b[1;33m \u001b[1;32mfrom\u001b[0m \u001b[0mconfig\u001b[0m \u001b[1;32mimport\u001b[0m \u001b[0mgkey\u001b[0m\u001b[1;33m\u001b[0m\u001b[1;33m\u001b[0m\u001b[0m\n\u001b[0m",
      "\u001b[1;31mModuleNotFoundError\u001b[0m: No module named 'config'"
     ]
    }
   ],
   "source": [
    "# Dependencies and Setup\n",
    "import matplotlib.pyplot as plt\n",
    "import pandas as pd\n",
    "import numpy as np\n",
    "import requests\n",
    "import json\n",
    "import datetime\n",
    "from pandas.io.json import json_normalize\n",
    "import gmaps\n",
    "import gmaps.datasets\n",
    "from config import gkey"
   ]
  },
  {
   "cell_type": "code",
   "execution_count": null,
   "metadata": {},
   "outputs": [],
   "source": [
    "# –––––––––––––––––––––––––– * API CALLS * ––––––––––––––––––––––––––  #\n",
    "#Retrieve the data\n",
    "\n",
    "start_date = datetime.date(year=2017, month=9, day=1)\n",
    "end_date = datetime.date(year=2018, month=12, day=1)\n",
    "period = datetime.timedelta(days=1)\n",
    "\n",
    "data = []\n",
    "\n",
    "date = start_date\n",
    "\n",
    "while date < end_date:\n",
    "    the_date = date.strftime('%Y-%m-%d')\n",
    "    url = f\"https://data.austintexas.gov/resource/r3af-2r8x.json?$$app_token=PueZjmFITn1jWUQCgPpRj0QkW&$where=published_date between \\'{the_date}T00:00:00\\' and \\'{the_date}T23:59:59\\'\"\n",
    "    response = requests.get(url).json()\n",
    "    data += response\n",
    "    date += period\n",
    "    \n",
    "data"
   ]
  },
  {
   "cell_type": "code",
   "execution_count": null,
   "metadata": {},
   "outputs": [],
   "source": [
    "# Converts the Data into a DataFrame\n",
    "traffic_df = pd.DataFrame.from_dict(json_normalize(data), orient='columns')\n",
    "\n",
    "# Save data as csv\n",
    "traffic_df.to_csv('Resources/traffic_raw.csv')\n",
    "\n",
    "traffic_df.head()"
   ]
  },
  {
   "cell_type": "code",
   "execution_count": null,
   "metadata": {},
   "outputs": [],
   "source": [
    "# See if there is any missing values on the data acquired\n",
    "traffic_df.count()"
   ]
  },
  {
   "cell_type": "code",
   "execution_count": null,
   "metadata": {},
   "outputs": [],
   "source": [
    "# Drop incomplete values\n",
    "traffic_df=traffic_df.dropna()\n",
    "traffic_df.count()"
   ]
  },
  {
   "cell_type": "code",
   "execution_count": null,
   "metadata": {},
   "outputs": [],
   "source": [
    "# Find the diferent categories for \"issue reported\"\n",
    "traffic_df['issue_reported'].value_counts()"
   ]
  },
  {
   "cell_type": "code",
   "execution_count": null,
   "metadata": {},
   "outputs": [],
   "source": [
    "# –––––––––––––––––––––––––– * RENAMING CATEGORIES * ––––––––––––––––––––––––––  #\n",
    "# Clean up issue_reported category. Replace 'Accident/Collision' in a single category.\n",
    "\n",
    "#ACCIDENT COLLISION\n",
    "traffic_df['issue_reported'] = traffic_df['issue_reported'].replace({\n",
    "    'Crash Urgent': 'Accident/Collision', 'Crash Service': 'Accident/Collision',\n",
    "    'COLLISION': 'Accident/Collision', 'COLLISION WITH INJURY': 'Accident/Collision',\n",
    "    'COLLISN/ LVNG SCN': 'Accident/Collision', 'COLLISN / FTSRA': 'Accident/Collision',\n",
    "    'COLLISION/PRIVATE PROPERTY': 'Accident/Collision', 'COLLISN/ LVNG SCN': 'Accident/Collision',\n",
    "    'AUTO/ PED': 'Accident/Collision','FLEET ACC/ INJURY': 'Accident/Collision',\n",
    "    'TRAFFIC FATALITY': 'Accident/Collision'})\n",
    "\n",
    "#TRAFFIC IMPEDIMENT\n",
    "traffic_df['issue_reported'] = traffic_df['issue_reported'].replace({\n",
    "    'zSTALLED VEHICLE': 'Traffic Impediment', 'BLOCKED DRIV/ HWY': 'Traffic Impediment',\n",
    "    'LOOSE LIVESTOCK': 'Traffic Impediment'})\n",
    "\n",
    "\n",
    "#TRAFFIC HAZARD\n",
    "traffic_df['issue_reported'] = traffic_df['issue_reported'].replace({\n",
    "    'TRFC HAZD/ DEBRIS': 'Traffic Hazard', 'N / HZRD TRFC VIOL': 'Traffic Hazard',\n",
    "    'ICY ROADWAY': 'Traffic Hazard', 'HIGH WATER': 'Traffic Hazard',\n",
    "    'VEHICLE FIRE': 'Traffic Hazard', 'HIGH WATER': 'Traffic Hazard'})\n",
    "\n",
    "# Drop the values for 'BOAT ACCIDENT' since those are not of interest for the study.\n",
    "traffic_df = traffic_df[traffic_df.issue_reported != 'BOAT ACCIDENT']\n",
    "\n",
    "traffic_df['issue_reported'].value_counts()"
   ]
  },
  {
   "cell_type": "code",
   "execution_count": null,
   "metadata": {},
   "outputs": [],
   "source": [
    "traffic_df.to_csv('Resources/traffic (main).csv') #clean dataset to work with"
   ]
  },
  {
   "cell_type": "code",
   "execution_count": null,
   "metadata": {},
   "outputs": [],
   "source": [
    "traffic_df.head()"
   ]
  },
  {
   "cell_type": "code",
   "execution_count": 2,
   "metadata": {},
   "outputs": [
    {
     "ename": "NameError",
     "evalue": "name 'gkey' is not defined",
     "output_type": "error",
     "traceback": [
      "\u001b[1;31m----------------------------------------------------------------------\u001b[0m",
      "\u001b[1;31mNameError\u001b[0m                            Traceback (most recent call last)",
      "\u001b[1;32m<ipython-input-2-97616e91d620>\u001b[0m in \u001b[0;36m<module>\u001b[1;34m\u001b[0m\n\u001b[0;32m      1\u001b[0m \u001b[1;31m#retrieve lat/lng values using numpy\u001b[0m\u001b[1;33m\u001b[0m\u001b[1;33m\u001b[0m\u001b[1;33m\u001b[0m\u001b[0m\n\u001b[1;32m----> 2\u001b[1;33m \u001b[0mgmaps\u001b[0m\u001b[1;33m.\u001b[0m\u001b[0mconfigure\u001b[0m\u001b[1;33m(\u001b[0m\u001b[0mapi_key\u001b[0m\u001b[1;33m=\u001b[0m \u001b[0mgkey\u001b[0m\u001b[1;33m)\u001b[0m\u001b[1;33m\u001b[0m\u001b[1;33m\u001b[0m\u001b[0m\n\u001b[0m\u001b[0;32m      3\u001b[0m \u001b[0mfig\u001b[0m \u001b[1;33m=\u001b[0m \u001b[0mgmaps\u001b[0m\u001b[1;33m.\u001b[0m\u001b[0mfigure\u001b[0m\u001b[1;33m(\u001b[0m\u001b[1;33m)\u001b[0m\u001b[1;33m\u001b[0m\u001b[1;33m\u001b[0m\u001b[0m\n\u001b[0;32m      4\u001b[0m \u001b[0maustin_coords\u001b[0m \u001b[1;33m=\u001b[0m \u001b[1;33m(\u001b[0m\u001b[1;36m30.26\u001b[0m\u001b[1;33m,\u001b[0m \u001b[1;33m-\u001b[0m\u001b[1;36m97.74\u001b[0m\u001b[1;33m)\u001b[0m\u001b[1;33m\u001b[0m\u001b[1;33m\u001b[0m\u001b[0m\n\u001b[0;32m      5\u001b[0m \u001b[0mfig\u001b[0m \u001b[1;33m=\u001b[0m \u001b[0mgmaps\u001b[0m\u001b[1;33m.\u001b[0m\u001b[0mfigure\u001b[0m\u001b[1;33m(\u001b[0m\u001b[0mcenter\u001b[0m\u001b[1;33m=\u001b[0m\u001b[0maustin_coords\u001b[0m\u001b[1;33m,\u001b[0m \u001b[0mzoom_level\u001b[0m\u001b[1;33m=\u001b[0m\u001b[1;36m12\u001b[0m\u001b[1;33m)\u001b[0m\u001b[1;33m\u001b[0m\u001b[1;33m\u001b[0m\u001b[0m\n",
      "\u001b[1;31mNameError\u001b[0m: name 'gkey' is not defined"
     ]
    }
   ],
   "source": [
    "#retrieve lat/lng values using numpy\n",
    "gmaps.configure(api_key= gkey)\n",
    "fig = gmaps.figure()\n",
    "austin_coords = (30.26, -97.74)\n",
    "fig = gmaps.figure(center=austin_coords, zoom_level=12)\n",
    "gmaps.figure(map_type='ROADMAP')\n",
    "fig"
   ]
  },
  {
   "cell_type": "code",
   "execution_count": null,
   "metadata": {},
   "outputs": [],
   "source": []
  }
 ],
 "metadata": {
  "kernelspec": {
   "display_name": "tuesday_pandas",
   "language": "python",
   "name": "tuesday_pandas"
  },
  "language_info": {
   "codemirror_mode": {
    "name": "ipython",
    "version": 3
   },
   "file_extension": ".py",
   "mimetype": "text/x-python",
   "name": "python",
   "nbconvert_exporter": "python",
   "pygments_lexer": "ipython3",
   "version": "3.6.7"
  }
 },
 "nbformat": 4,
 "nbformat_minor": 2
}
