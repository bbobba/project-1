{
 "cells": [
  {
   "cell_type": "code",
   "execution_count": 1,
   "metadata": {},
   "outputs": [],
   "source": [
    "# Dependencies and Setup\n",
    "import matplotlib.pyplot as plt\n",
    "import pandas as pd"
   ]
  },
  {
   "cell_type": "code",
   "execution_count": 2,
   "metadata": {
    "scrolled": true
   },
   "outputs": [
    {
     "data": {
      "text/html": [
       "<div>\n",
       "<style scoped>\n",
       "    .dataframe tbody tr th:only-of-type {\n",
       "        vertical-align: middle;\n",
       "    }\n",
       "\n",
       "    .dataframe tbody tr th {\n",
       "        vertical-align: top;\n",
       "    }\n",
       "\n",
       "    .dataframe thead th {\n",
       "        text-align: right;\n",
       "    }\n",
       "</style>\n",
       "<table border=\"1\" class=\"dataframe\">\n",
       "  <thead>\n",
       "    <tr style=\"text-align: right;\">\n",
       "      <th></th>\n",
       "      <th>Unnamed: 0</th>\n",
       "      <th>address</th>\n",
       "      <th>issue_reported</th>\n",
       "      <th>latitude</th>\n",
       "      <th>location</th>\n",
       "      <th>longitude</th>\n",
       "      <th>published_date</th>\n",
       "      <th>traffic_report_id</th>\n",
       "      <th>traffic_report_status</th>\n",
       "      <th>traffic_report_status_date_time</th>\n",
       "    </tr>\n",
       "  </thead>\n",
       "  <tbody>\n",
       "    <tr>\n",
       "      <th>0</th>\n",
       "      <td>0</td>\n",
       "      <td>5400 Brodie Ln</td>\n",
       "      <td>Accident/Collision</td>\n",
       "      <td>30.230326</td>\n",
       "      <td>(30.2303264,-97.8199774)</td>\n",
       "      <td>-97.819977</td>\n",
       "      <td>2017-09-26T11:11:00.000</td>\n",
       "      <td>EC10DB9185C9C58A004FA683DD21AFCD16CAD418</td>\n",
       "      <td>ARCHIVED</td>\n",
       "      <td>2018-05-17T20:00:00.000</td>\n",
       "    </tr>\n",
       "    <tr>\n",
       "      <th>1</th>\n",
       "      <td>1</td>\n",
       "      <td>8800 Corran Ferry Dr</td>\n",
       "      <td>Accident/Collision</td>\n",
       "      <td>30.201610</td>\n",
       "      <td>(30.2016097,-97.8530411)</td>\n",
       "      <td>-97.853041</td>\n",
       "      <td>2017-09-26T11:19:00.000</td>\n",
       "      <td>B25B748A59D8B6B5B5AE3E9D985289E795C874ED</td>\n",
       "      <td>ARCHIVED</td>\n",
       "      <td>2018-05-17T20:00:00.000</td>\n",
       "    </tr>\n",
       "    <tr>\n",
       "      <th>2</th>\n",
       "      <td>2</td>\n",
       "      <td>N Lamar Blvd Nb &amp; Morrow St</td>\n",
       "      <td>Accident/Collision</td>\n",
       "      <td>30.343978</td>\n",
       "      <td>(30.3439776,-97.7149716)</td>\n",
       "      <td>-97.714972</td>\n",
       "      <td>2017-09-26T11:55:00.000</td>\n",
       "      <td>B17F4787F2799F2665E5F119FC2F47D569212C4C</td>\n",
       "      <td>ARCHIVED</td>\n",
       "      <td>2018-05-17T20:00:00.000</td>\n",
       "    </tr>\n",
       "    <tr>\n",
       "      <th>3</th>\n",
       "      <td>3</td>\n",
       "      <td>11000 Fm 2222 Rd</td>\n",
       "      <td>Accident/Collision</td>\n",
       "      <td>30.396632</td>\n",
       "      <td>(30.3966315,-97.8487281)</td>\n",
       "      <td>-97.848728</td>\n",
       "      <td>2017-09-26T12:08:00.000</td>\n",
       "      <td>15D1EE116284B85E5DE3E00564518367FE994DE7</td>\n",
       "      <td>ARCHIVED</td>\n",
       "      <td>2018-05-17T20:00:00.000</td>\n",
       "    </tr>\n",
       "    <tr>\n",
       "      <th>4</th>\n",
       "      <td>4</td>\n",
       "      <td>Mount Bonnell Rd &amp; Tortuga Trl</td>\n",
       "      <td>Accident/Collision</td>\n",
       "      <td>30.339233</td>\n",
       "      <td>(30.339233,-97.7779837)</td>\n",
       "      <td>-97.777984</td>\n",
       "      <td>2017-09-26T12:20:00.000</td>\n",
       "      <td>89CA91E6C9B28BDCFB629B12758F955D21072594</td>\n",
       "      <td>ARCHIVED</td>\n",
       "      <td>2018-05-17T20:00:00.000</td>\n",
       "    </tr>\n",
       "  </tbody>\n",
       "</table>\n",
       "</div>"
      ],
      "text/plain": [
       "   Unnamed: 0                         address      issue_reported   latitude  \\\n",
       "0           0                  5400 Brodie Ln  Accident/Collision  30.230326   \n",
       "1           1            8800 Corran Ferry Dr  Accident/Collision  30.201610   \n",
       "2           2     N Lamar Blvd Nb & Morrow St  Accident/Collision  30.343978   \n",
       "3           3                11000 Fm 2222 Rd  Accident/Collision  30.396632   \n",
       "4           4  Mount Bonnell Rd & Tortuga Trl  Accident/Collision  30.339233   \n",
       "\n",
       "                   location  longitude           published_date  \\\n",
       "0  (30.2303264,-97.8199774) -97.819977  2017-09-26T11:11:00.000   \n",
       "1  (30.2016097,-97.8530411) -97.853041  2017-09-26T11:19:00.000   \n",
       "2  (30.3439776,-97.7149716) -97.714972  2017-09-26T11:55:00.000   \n",
       "3  (30.3966315,-97.8487281) -97.848728  2017-09-26T12:08:00.000   \n",
       "4   (30.339233,-97.7779837) -97.777984  2017-09-26T12:20:00.000   \n",
       "\n",
       "                          traffic_report_id traffic_report_status  \\\n",
       "0  EC10DB9185C9C58A004FA683DD21AFCD16CAD418              ARCHIVED   \n",
       "1  B25B748A59D8B6B5B5AE3E9D985289E795C874ED              ARCHIVED   \n",
       "2  B17F4787F2799F2665E5F119FC2F47D569212C4C              ARCHIVED   \n",
       "3  15D1EE116284B85E5DE3E00564518367FE994DE7              ARCHIVED   \n",
       "4  89CA91E6C9B28BDCFB629B12758F955D21072594              ARCHIVED   \n",
       "\n",
       "  traffic_report_status_date_time  \n",
       "0         2018-05-17T20:00:00.000  \n",
       "1         2018-05-17T20:00:00.000  \n",
       "2         2018-05-17T20:00:00.000  \n",
       "3         2018-05-17T20:00:00.000  \n",
       "4         2018-05-17T20:00:00.000  "
      ]
     },
     "execution_count": 2,
     "metadata": {},
     "output_type": "execute_result"
    }
   ],
   "source": [
    "traffic_df = pd.read_csv('Resources/traffic (main).csv')\n",
    "traffic_df.head()"
   ]
  },
  {
   "cell_type": "code",
   "execution_count": 3,
   "metadata": {},
   "outputs": [
    {
     "data": {
      "image/png": "[encoded data removed]",
      "text/plain": [
       "<Figure size 432x288 with 1 Axes>"
      ]
     },
     "metadata": {},
     "output_type": "display_data"
    }
   ],
   "source": [
    "# The colors of each section of the pie chart\n",
    "colors = [\"red\", \"green\", \"yellow\"]\n",
    "\n",
    "# Tells matplotlib to seperate the \"Python\" section from the others\n",
    "explode = (0.1, 0, 0)\n",
    "\n",
    "pie_plot = plt.pie(traffic_df['issue_reported'].value_counts(), \n",
    "                   explode = explode, \n",
    "                   colors= colors, \n",
    "                   autopct=\"%1.1f%%\", \n",
    "                   shadow=True, \n",
    "                   startangle=140, \n",
    "                   labels=traffic_df['issue_reported'].unique()\n",
    "                  )\n",
    "plt.savefig('../Deliverables/PiePlot (Categories).png') \n",
    "plt.show()"
   ]
  },
  {
   "cell_type": "code",
   "execution_count": null,
   "metadata": {},
   "outputs": [],
   "source": []
  }
 ],
 "metadata": {
  "kernelspec": {
   "display_name": "Python 3",
   "language": "python",
   "name": "python3"
  },
  "language_info": {
   "codemirror_mode": {
    "name": "ipython",
    "version": 3
   },
   "file_extension": ".py",
   "mimetype": "text/x-python",
   "name": "python",
   "nbconvert_exporter": "python",
   "pygments_lexer": "ipython3",
   "version": "3.6.7"
  }
 },
 "nbformat": 4,
 "nbformat_minor": 2
}
