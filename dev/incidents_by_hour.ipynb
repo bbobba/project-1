{
 "cells": [
  {
   "cell_type": "code",
   "execution_count": 163,
   "metadata": {},
   "outputs": [],
   "source": [
    "import matplotlib.pyplot as plt\n",
    "import pandas as pd\n",
    "import datetime\n",
    "import gmaps\n",
    "import gmaps.datasets\n",
    "import numpy as np\n",
    "from config import gkey\n",
    "import seaborn as sns"
   ]
  },
  {
   "cell_type": "code",
   "execution_count": 46,
   "metadata": {},
   "outputs": [
    {
     "data": {
      "text/html": [
       "<div>\n",
       "<style scoped>\n",
       "    .dataframe tbody tr th:only-of-type {\n",
       "        vertical-align: middle;\n",
       "    }\n",
       "\n",
       "    .dataframe tbody tr th {\n",
       "        vertical-align: top;\n",
       "    }\n",
       "\n",
       "    .dataframe thead th {\n",
       "        text-align: right;\n",
       "    }\n",
       "</style>\n",
       "<table border=\"1\" class=\"dataframe\">\n",
       "  <thead>\n",
       "    <tr style=\"text-align: right;\">\n",
       "      <th></th>\n",
       "      <th>Unnamed: 0</th>\n",
       "      <th>Address</th>\n",
       "      <th>Issue Reported</th>\n",
       "      <th>Latitude</th>\n",
       "      <th>Location</th>\n",
       "      <th>Longitude</th>\n",
       "      <th>Date Time Published</th>\n",
       "      <th>Traffic Report ID</th>\n",
       "      <th>Traffic Report Status (TRS)</th>\n",
       "      <th>TRS Date Time</th>\n",
       "      <th>Date</th>\n",
       "      <th>Time</th>\n",
       "    </tr>\n",
       "  </thead>\n",
       "  <tbody>\n",
       "    <tr>\n",
       "      <th>0</th>\n",
       "      <td>0</td>\n",
       "      <td>5400 Brodie Ln</td>\n",
       "      <td>Accident/Collision</td>\n",
       "      <td>30.230326</td>\n",
       "      <td>(30.2303264,-97.8199774)</td>\n",
       "      <td>-97.819977</td>\n",
       "      <td>2017-09-26T11:11:00.000</td>\n",
       "      <td>EC10DB9185C9C58A004FA683DD21AFCD16CAD418</td>\n",
       "      <td>ARCHIVED</td>\n",
       "      <td>2018-05-17T20:00:00.000</td>\n",
       "      <td>2017-09-26</td>\n",
       "      <td>11:11:00</td>\n",
       "    </tr>\n",
       "    <tr>\n",
       "      <th>1</th>\n",
       "      <td>1</td>\n",
       "      <td>8800 Corran Ferry Dr</td>\n",
       "      <td>Accident/Collision</td>\n",
       "      <td>30.201610</td>\n",
       "      <td>(30.2016097,-97.8530411)</td>\n",
       "      <td>-97.853041</td>\n",
       "      <td>2017-09-26T11:19:00.000</td>\n",
       "      <td>B25B748A59D8B6B5B5AE3E9D985289E795C874ED</td>\n",
       "      <td>ARCHIVED</td>\n",
       "      <td>2018-05-17T20:00:00.000</td>\n",
       "      <td>2017-09-26</td>\n",
       "      <td>11:19:00</td>\n",
       "    </tr>\n",
       "    <tr>\n",
       "      <th>2</th>\n",
       "      <td>2</td>\n",
       "      <td>N Lamar Blvd Nb &amp; Morrow St</td>\n",
       "      <td>Accident/Collision</td>\n",
       "      <td>30.343978</td>\n",
       "      <td>(30.3439776,-97.7149716)</td>\n",
       "      <td>-97.714972</td>\n",
       "      <td>2017-09-26T11:55:00.000</td>\n",
       "      <td>B17F4787F2799F2665E5F119FC2F47D569212C4C</td>\n",
       "      <td>ARCHIVED</td>\n",
       "      <td>2018-05-17T20:00:00.000</td>\n",
       "      <td>2017-09-26</td>\n",
       "      <td>11:55:00</td>\n",
       "    </tr>\n",
       "    <tr>\n",
       "      <th>3</th>\n",
       "      <td>3</td>\n",
       "      <td>11000 Fm 2222 Rd</td>\n",
       "      <td>Accident/Collision</td>\n",
       "      <td>30.396632</td>\n",
       "      <td>(30.3966315,-97.8487281)</td>\n",
       "      <td>-97.848728</td>\n",
       "      <td>2017-09-26T12:08:00.000</td>\n",
       "      <td>15D1EE116284B85E5DE3E00564518367FE994DE7</td>\n",
       "      <td>ARCHIVED</td>\n",
       "      <td>2018-05-17T20:00:00.000</td>\n",
       "      <td>2017-09-26</td>\n",
       "      <td>12:08:00</td>\n",
       "    </tr>\n",
       "    <tr>\n",
       "      <th>4</th>\n",
       "      <td>4</td>\n",
       "      <td>Mount Bonnell Rd &amp; Tortuga Trl</td>\n",
       "      <td>Accident/Collision</td>\n",
       "      <td>30.339233</td>\n",
       "      <td>(30.339233,-97.7779837)</td>\n",
       "      <td>-97.777984</td>\n",
       "      <td>2017-09-26T12:20:00.000</td>\n",
       "      <td>89CA91E6C9B28BDCFB629B12758F955D21072594</td>\n",
       "      <td>ARCHIVED</td>\n",
       "      <td>2018-05-17T20:00:00.000</td>\n",
       "      <td>2017-09-26</td>\n",
       "      <td>12:20:00</td>\n",
       "    </tr>\n",
       "  </tbody>\n",
       "</table>\n",
       "</div>"
      ],
      "text/plain": [
       "   Unnamed: 0                         Address      Issue Reported   Latitude  \\\n",
       "0           0                  5400 Brodie Ln  Accident/Collision  30.230326   \n",
       "1           1            8800 Corran Ferry Dr  Accident/Collision  30.201610   \n",
       "2           2     N Lamar Blvd Nb & Morrow St  Accident/Collision  30.343978   \n",
       "3           3                11000 Fm 2222 Rd  Accident/Collision  30.396632   \n",
       "4           4  Mount Bonnell Rd & Tortuga Trl  Accident/Collision  30.339233   \n",
       "\n",
       "                   Location  Longitude      Date Time Published  \\\n",
       "0  (30.2303264,-97.8199774) -97.819977  2017-09-26T11:11:00.000   \n",
       "1  (30.2016097,-97.8530411) -97.853041  2017-09-26T11:19:00.000   \n",
       "2  (30.3439776,-97.7149716) -97.714972  2017-09-26T11:55:00.000   \n",
       "3  (30.3966315,-97.8487281) -97.848728  2017-09-26T12:08:00.000   \n",
       "4   (30.339233,-97.7779837) -97.777984  2017-09-26T12:20:00.000   \n",
       "\n",
       "                          Traffic Report ID Traffic Report Status (TRS)  \\\n",
       "0  EC10DB9185C9C58A004FA683DD21AFCD16CAD418                    ARCHIVED   \n",
       "1  B25B748A59D8B6B5B5AE3E9D985289E795C874ED                    ARCHIVED   \n",
       "2  B17F4787F2799F2665E5F119FC2F47D569212C4C                    ARCHIVED   \n",
       "3  15D1EE116284B85E5DE3E00564518367FE994DE7                    ARCHIVED   \n",
       "4  89CA91E6C9B28BDCFB629B12758F955D21072594                    ARCHIVED   \n",
       "\n",
       "             TRS Date Time        Date      Time  \n",
       "0  2018-05-17T20:00:00.000  2017-09-26  11:11:00  \n",
       "1  2018-05-17T20:00:00.000  2017-09-26  11:19:00  \n",
       "2  2018-05-17T20:00:00.000  2017-09-26  11:55:00  \n",
       "3  2018-05-17T20:00:00.000  2017-09-26  12:08:00  \n",
       "4  2018-05-17T20:00:00.000  2017-09-26  12:20:00  "
      ]
     },
     "execution_count": 46,
     "metadata": {},
     "output_type": "execute_result"
    }
   ],
   "source": [
    "traffic_df = pd.read_csv('Resources/traffic (main).csv')\n",
    "traffic_df.head()"
   ]
  },
  {
   "cell_type": "code",
   "execution_count": 182,
   "metadata": {
    "scrolled": true
   },
   "outputs": [
    {
     "data": {
      "text/plain": [
       "12    13.208817\n",
       "11    12.278422\n",
       "08    11.178654\n",
       "13    11.153132\n",
       "10    10.914153\n",
       "07    10.795824\n",
       "09    10.638051\n",
       "16     9.359629\n",
       "14     9.359629\n",
       "17     8.763341\n",
       "15     8.700696\n",
       "06     8.371230\n",
       "18     7.429234\n",
       "02     6.728538\n",
       "05     6.310905\n",
       "03     6.046404\n",
       "04     5.691415\n",
       "19     5.689095\n",
       "01     5.197216\n",
       "20     4.651972\n",
       "21     4.167053\n",
       "00     3.396752\n",
       "22     3.051044\n",
       "23     2.730858\n",
       "dtype: float64"
      ]
     },
     "execution_count": 182,
     "metadata": {},
     "output_type": "execute_result"
    }
   ],
   "source": [
    "publish_time = traffic_df['Date Time Published'].str.split(\"T\", n= 1, expand= True)\n",
    "publish_time = publish_time[1].str.split(\".\", n= 1, expand= True)\n",
    "publish_time = publish_time[0].str.split(\":\", n=1, expand= True)\n",
    "publish_time = publish_time[0]\n",
    "count = pd.value_counts(publish_time.values)\n",
    "#traffic_df['Date'].value_counts()\n",
    "average = count/431\n",
    "average"
   ]
  },
  {
   "cell_type": "code",
   "execution_count": 186,
   "metadata": {},
   "outputs": [
    {
     "data": {
      "image/png": "[encoded data removed]",
      "text/plain": [
       "<Figure size 432x288 with 1 Axes>"
      ]
     },
     "metadata": {
      "needs_background": "light"
     },
     "output_type": "display_data"
    }
   ],
   "source": [
    "sns.barplot(count.index, average)\n",
    "plt.title(\"Number of Incidents by Hour of Day\")\n",
    "plt.xlabel(\"Hour\")\n",
    "plt.ylabel(\"Average Number of Incidents\")\n",
    "plt.savefig(\"../Deliverables/Number of Incidents by Hour of Day.png\")"
   ]
  },
  {
   "cell_type": "code",
   "execution_count": null,
   "metadata": {},
   "outputs": [],
   "source": []
  }
 ],
 "metadata": {
  "kernelspec": {
   "display_name": "tuesday_pandas",
   "language": "python",
   "name": "tuesday_pandas"
  },
  "language_info": {
   "codemirror_mode": {
    "name": "ipython",
    "version": 3
   },
   "file_extension": ".py",
   "mimetype": "text/x-python",
   "name": "python",
   "nbconvert_exporter": "python",
   "pygments_lexer": "ipython3",
   "version": "3.6.7"
  }
 },
 "nbformat": 4,
 "nbformat_minor": 2
}
